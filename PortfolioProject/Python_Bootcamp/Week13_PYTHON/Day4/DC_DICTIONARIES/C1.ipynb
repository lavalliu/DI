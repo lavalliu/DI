{
 "cells": [
  {
   "cell_type": "code",
   "execution_count": 126,
   "metadata": {},
   "outputs": [
    {
     "data": {
      "text/plain": [
       "{'d': [0]}"
      ]
     },
     "execution_count": 126,
     "metadata": {},
     "output_type": "execute_result"
    }
   ],
   "source": [
    "# word = input(\"Enter a word : \")\n",
    "resultdict = {}\n",
    "\n",
    "\n",
    "def dict(word):\n",
    "    i = 0\n",
    "    resultlist = []\n",
    "    for i, letter in enumerate(word):\n",
    "        if letter in resultdict:\n",
    "            resultdict[letter].append(i)\n",
    "        else:\n",
    "            resultdict[letter] = [i]\n",
    "        return resultdict\n",
    "    \n",
    "\n",
    "    print(resultdict)\n",
    "\n",
    "dict('dododo')"
   ]
  }
 ],
 "metadata": {
  "kernelspec": {
   "display_name": "Python 3",
   "language": "python",
   "name": "python3"
  },
  "language_info": {
   "codemirror_mode": {
    "name": "ipython",
    "version": 3
   },
   "file_extension": ".py",
   "mimetype": "text/x-python",
   "name": "python",
   "nbconvert_exporter": "python",
   "pygments_lexer": "ipython3",
   "version": "3.10.0"
  }
 },
 "nbformat": 4,
 "nbformat_minor": 2
}
